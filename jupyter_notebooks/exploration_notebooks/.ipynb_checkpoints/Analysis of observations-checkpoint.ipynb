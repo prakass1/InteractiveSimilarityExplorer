{
 "cells": [
  {
   "cell_type": "markdown",
   "metadata": {},
   "source": [
    "# Analysis and understanding of observations"
   ]
  },
  {
   "cell_type": "markdown",
   "metadata": {},
   "source": [
    "## Bar plot to understand number of observations on each day on the data of all users"
   ]
  },
  {
   "cell_type": "markdown",
   "metadata": {},
   "source": [
    "<p> This plots provides an information regarding the number of observations which can be on each day(here day - (1-31) of every month). The observations of each are aggregated to obtain number of observations and plotted dynamic on a grid for all users </p>\n",
    "<p> A filter is also applied to keep those users who have minimum 3 observations and have atleast had their sessions for 5 day</p>"
   ]
  },
  {
   "cell_type": "markdown",
   "metadata": {},
   "source": [
    "<p> Below image shows the output visually. Please zoom in a bit</p>"
   ]
  },
  {
   "cell_type": "markdown",
   "metadata": {},
   "source": [
    "![User nObservations](user_bar_nobs_3obsperday_5daysmin.png)"
   ]
  },
  {
   "cell_type": "markdown",
   "metadata": {},
   "source": [
    "## Box plot to understand the number of observations of each user\n",
    "<p> At first, a box plot is plotted for each of the users over a grid. \n",
    "For each of the user we have highlighted the mean with a point and median is shown with line.</p>"
   ]
  },
  {
   "cell_type": "markdown",
   "metadata": {},
   "source": [
    "The output is visually shown below. (Note: This plot contains information of all the users as compared to the barplot). It can be observed that there are some users with fewer observations only :\n",
    "    \n",
    "![User nObservations boxplot](number_of_obs_per_user_box_plot.png)"
   ]
  },
  {
   "cell_type": "markdown",
   "metadata": {},
   "source": [
    "## Box plot of number of observations over days where points of users are grouped on each day\n",
    "<p> This plot is an important plot which helps in understanding the how the data is distributed over the days and also highlights the minimum, maximum, median and mean.</p>"
   ]
  },
  {
   "cell_type": "markdown",
   "metadata": {},
   "source": [
    "<p> The plot is provided with a provision to interact with the plot and ability to compare between days and see the data points of users for a day</p>\n",
    "\n",
    "Link to the plot: [Users box plot of number of observations grouped on each day](\"users_distress_each_day_notch_msd.html\")"
   ]
  },
  {
   "cell_type": "markdown",
   "metadata": {},
   "source": []
  },
  {
   "cell_type": "markdown",
   "metadata": {},
   "source": []
  },
  {
   "cell_type": "markdown",
   "metadata": {},
   "source": [
    "References:  \n",
    "* Visited [Understanding Box plot](https://sites.google.com/site/davidsstatistics/home/notched-box-plots) for some understanding regarding the confidence interval and quartile ranges\n",
    "* Plotly for plotting\n"
   ]
  },
  {
   "cell_type": "code",
   "execution_count": null,
   "metadata": {},
   "outputs": [],
   "source": []
  }
 ],
 "metadata": {
  "kernelspec": {
   "display_name": "Python 3",
   "language": "python",
   "name": "python3"
  },
  "language_info": {
   "codemirror_mode": {
    "name": "ipython",
    "version": 3
   },
   "file_extension": ".py",
   "mimetype": "text/x-python",
   "name": "python",
   "nbconvert_exporter": "python",
   "pygments_lexer": "ipython3",
   "version": "3.6.8"
  }
 },
 "nbformat": 4,
 "nbformat_minor": 2
}
